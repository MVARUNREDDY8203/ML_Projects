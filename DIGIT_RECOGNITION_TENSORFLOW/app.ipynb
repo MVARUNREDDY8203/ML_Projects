{
 "cells": [
  {
   "cell_type": "code",
   "execution_count": null,
   "metadata": {},
   "outputs": [],
   "source": [
    "import tensorflow as tf\n",
    "import numpy as np\n",
    "from tensorflow.keras.models import load_model\n",
    "from PIL import Image"
   ]
  },
  {
   "cell_type": "code",
   "execution_count": null,
   "metadata": {},
   "outputs": [],
   "source": [
    "model = load_model('model_mnist_classifier.h5')"
   ]
  },
  {
   "cell_type": "code",
   "execution_count": null,
   "metadata": {},
   "outputs": [],
   "source": [
    "def preprocess_drawing(drawing):\n",
    "    if drawing is None or len(drawing) == 0:\n",
    "        # Return a default image or appropriate error message\n",
    "        return \"Draw something on the sketchpad\"\n",
    "    image = Image.fromarray(drawing).convert('L')\n",
    "    image = image.resize((28, 28), resample=Image.BILINEAR)\n",
    "    image = np.array(image)\n",
    "    image = image/255\n",
    "    image = image.reshape(1, 784)\n",
    "    return image\n"
   ]
  },
  {
   "cell_type": "code",
   "execution_count": null,
   "metadata": {},
   "outputs": [],
   "source": [
    "def predict_label(drawing):\n",
    "    image = preprocess_drawing(drawing)\n",
    "    prediction = model.predict(image)\n",
    "    label = np.argmax(prediction)\n",
    "    return str(label)\n",
    "    "
   ]
  },
  {
   "cell_type": "code",
   "execution_count": null,
   "metadata": {},
   "outputs": [],
   "source": [
    "import tkinter as tk\n",
    "\n",
    "class Sketchpad:\n",
    "    def __init__(self, width, height):\n",
    "        self.width = width\n",
    "        self.height = height\n",
    "\n",
    "        # Create the main window\n",
    "        self.root = tk.Tk()\n",
    "        self.root.title(\"Sketchpad\")\n",
    "\n",
    "        # Create the canvas for drawing\n",
    "        self.canvas = tk.Canvas(self.root, width=self.width, height=self.height, bg='white')\n",
    "        self.canvas.pack()\n",
    "\n",
    "        # Bind mouse events\n",
    "        self.canvas.bind(\"<B1-Motion>\", self.draw)\n",
    "\n",
    "        # Create a button to clear the canvas\n",
    "        clear_button = tk.Button(self.root, text=\"Clear\", command=self.clear_canvas)\n",
    "        clear_button.pack()\n",
    "\n",
    "        # Run the main loop\n",
    "        self.root.mainloop()\n",
    "\n",
    "    def draw(self, event):\n",
    "        x, y = event.x, event.y\n",
    "        r = 8  # Radius of the pen\n",
    "\n",
    "        self.canvas.create_oval(x - r, y - r, x + r, y + r, fill='black')\n",
    "\n",
    "    def clear_canvas(self):\n",
    "        self.canvas.delete('all')\n",
    "\n",
    "# Create a sketchpad instance with a width and height of 400 pixels\n",
    "sketchpad = Sketchpad(400, 400)\n"
   ]
  },
  {
   "cell_type": "code",
   "execution_count": null,
   "metadata": {},
   "outputs": [],
   "source": []
  }
 ],
 "metadata": {
  "kernelspec": {
   "display_name": "Python 3",
   "language": "python",
   "name": "python3"
  },
  "language_info": {
   "codemirror_mode": {
    "name": "ipython",
    "version": 3
   },
   "file_extension": ".py",
   "mimetype": "text/x-python",
   "name": "python",
   "nbconvert_exporter": "python",
   "pygments_lexer": "ipython3",
   "version": "3.10.2"
  },
  "orig_nbformat": 4
 },
 "nbformat": 4,
 "nbformat_minor": 2
}
